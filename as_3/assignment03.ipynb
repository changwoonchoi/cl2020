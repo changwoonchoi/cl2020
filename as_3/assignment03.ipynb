{
 "cells": [
  {
   "cell_type": "markdown",
   "metadata": {
    "colab_type": "text",
    "id": "oR3pclAb4Ht8"
   },
   "source": [
    "M2780.002400 Machine Listening (Fall 2020)\n",
    "\n",
    "Instructor: Kyogu Lee (kglee@snu.ac.kr)"
   ]
  },
  {
   "cell_type": "markdown",
   "metadata": {
    "colab_type": "text",
    "id": "SbvqAdck4JHM"
   },
   "source": [
    "# Assignment 3: Music Analysis\n",
    "\n",
    "(80 points)\n",
    "\n",
    "Due Date : This assignment is due by 12:59PM, September 29 (Tuesday)\n",
    "\n",
    "\n",
    "\n",
    "---\n",
    "\n",
    "Assignment\n",
    "\n",
    "This assignment is composed of only one part: Lab assignment, you will need to write Notebook scripts and/or functions as required and submit them electronically (via **ETL**) by the end of the due date."
   ]
  },
  {
   "cell_type": "markdown",
   "metadata": {
    "colab_type": "text",
    "id": "_Rs_XOPK4Thp"
   },
   "source": [
    "# Lab (80pts)"
   ]
  },
  {
   "cell_type": "markdown",
   "metadata": {
    "colab_type": "text",
    "id": "hTOGA3u44W9b"
   },
   "source": [
    "For all lab assignments, submit your Notebook file (.ipynb) and plots(.png) via **ETL**. The Notebook file should be named with your full name and the homework number – e.g., JohnDoe_hw2.ipynb. \n",
    "\n",
    "In addition to writing Python scripts and/or functions in your Notebook file, there are also questions you’ll have to answer. For such questions, you should provide answers in your Notebook file using Text sections.\n",
    "\n",
    "**Please submit the codes executed (make sure that the results of your codes are visible in the submitted assignments) so that the grader can check whether the code is working or not.**"
   ]
  },
  {
   "cell_type": "markdown",
   "metadata": {
    "colab_type": "text",
    "id": "iS-Rnmhz4kka"
   },
   "source": [
    "\n",
    "---\n",
    "\n",
    "\n",
    "1.   Onset Detection (40 pts)\n",
    " \n",
    " Lab3 has onset detection algorithms that use the time-domain, frequency-domain, and phase-based features. \n",
    "\n",
    "\n",
    "*   a. Download T39-piano-8k.wav and T08-violin-8k.wav clips from the course homepage. Save onset detection results as image for each clip and each onset detection algorithms. The image should be named as INSTUMENT_#ofLAB_method.png, for example, a figure that uses a piano clip in lab4 should be titled piano_4_time_domain.png.\n"
   ]
  },
  {
   "cell_type": "code",
   "execution_count": null,
   "metadata": {
    "colab": {},
    "colab_type": "code",
    "id": "AMKmy6Yp78YX"
   },
   "outputs": [],
   "source": [
    "# !!!! your code here !!!!\n"
   ]
  },
  {
   "cell_type": "markdown",
   "metadata": {
    "colab_type": "text",
    "id": "kFG4e0o_77OW"
   },
   "source": [
    "\n",
    "---\n",
    "\n",
    "\n",
    "2.   Chord Recognition Using Chromagram (40 pts)\n",
    " \n",
    " Lab3 has an algorithm that estimates a musical chord from a chroma feature.\n",
    " \n",
    "*   a. Write a python function that takes as inputs an audio file name and returns a chord sequence at the frame level.\n",
    "\n",
    "*   b. Run your chord recognition function on the audio file prelude_cmaj_short_11k.wav, and plot the chord sequence. (Please ignore 7th note. Consider all chords as triad chords)\n"
   ]
  },
  {
   "cell_type": "code",
   "execution_count": null,
   "metadata": {
    "colab": {},
    "colab_type": "code",
    "id": "gLdyTVZc8B8h"
   },
   "outputs": [],
   "source": [
    "# !!!! your code here !!!!\n"
   ]
  }
 ],
 "metadata": {
  "colab": {
   "collapsed_sections": [],
   "name": "assignment03.ipynb",
   "provenance": []
  },
  "kernelspec": {
   "display_name": "Python 3",
   "language": "python",
   "name": "python3"
  },
  "language_info": {
   "codemirror_mode": {
    "name": "ipython",
    "version": 3
   },
   "file_extension": ".py",
   "mimetype": "text/x-python",
   "name": "python",
   "nbconvert_exporter": "python",
   "pygments_lexer": "ipython3",
   "version": "3.8.5"
  }
 },
 "nbformat": 4,
 "nbformat_minor": 1
}
