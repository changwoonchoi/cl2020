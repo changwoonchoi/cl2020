{
 "cells": [
  {
   "cell_type": "markdown",
   "metadata": {
    "id": "vMB98jPKcTMl"
   },
   "source": [
    "# Machine Listening (Fall 2020)\n",
    "# Lab5: Linear Regression and Logistic Regression"
   ]
  },
  {
   "cell_type": "markdown",
   "metadata": {
    "id": "1dqpn6610tgN"
   },
   "source": [
    "get authorization to read audio files in google drive"
   ]
  },
  {
   "cell_type": "code",
   "execution_count": 1,
   "metadata": {
    "colab": {
     "base_uri": "https://localhost:8080/",
     "height": 34
    },
    "executionInfo": {
     "elapsed": 29860,
     "status": "ok",
     "timestamp": 1601965596401,
     "user": {
      "displayName": "이교구",
      "photoUrl": "https://lh3.googleusercontent.com/a-/AOh14GjNOri9xonve0m-Jo6yCN6BkmT9v3L4KYaEF9ZYr_w=s64",
      "userId": "07866578970000881110"
     },
     "user_tz": -540
    },
    "id": "dgnU_1yQjIgN",
    "outputId": "fe45fdf0-437c-43da-96a2-21b2ac45e04c"
   },
   "outputs": [
    {
     "name": "stdout",
     "output_type": "stream",
     "text": [
      "Mounted at /content/drive\n"
     ]
    }
   ],
   "source": [
    "from google.colab import drive\n",
    "drive.mount('/content/drive')"
   ]
  },
  {
   "cell_type": "markdown",
   "metadata": {
    "id": "A8BJTF6OcUeN"
   },
   "source": [
    "# lab5 - 1 : Linear Regression from Scratch"
   ]
  },
  {
   "cell_type": "code",
   "execution_count": 5,
   "metadata": {
    "colab": {
     "base_uri": "https://localhost:8080/",
     "height": 279
    },
    "executionInfo": {
     "elapsed": 858,
     "status": "ok",
     "timestamp": 1601966046576,
     "user": {
      "displayName": "이교구",
      "photoUrl": "https://lh3.googleusercontent.com/a-/AOh14GjNOri9xonve0m-Jo6yCN6BkmT9v3L4KYaEF9ZYr_w=s64",
      "userId": "07866578970000881110"
     },
     "user_tz": -540
    },
    "id": "1tQpICAvcKY7",
    "outputId": "eafdc6e2-195c-4380-bb79-c992305ffc25"
   },
   "outputs": [
    {
     "data": {
      "image/png": "[encoded data removed]",
      "text/plain": [
       "<Figure size 432x288 with 1 Axes>"
      ]
     },
     "metadata": {
      "needs_background": "light",
      "tags": []
     },
     "output_type": "display_data"
    }
   ],
   "source": [
    "import numpy as np\n",
    "import matplotlib.pyplot as plt\n",
    "\n",
    "# generate random data\n",
    "np.random.seed(10)\n",
    "x = np.random.rand(100, 1)\n",
    "y = 2 + 3 * x + np.random.rand(100, 1)\n",
    "\n",
    "\n",
    "plt.scatter(x,y,s=10)\n",
    "plt.xlabel('x')\n",
    "plt.ylabel('y')\n",
    "plt.show()"
   ]
  },
  {
   "cell_type": "code",
   "execution_count": 6,
   "metadata": {
    "colab": {
     "base_uri": "https://localhost:8080/",
     "height": 34
    },
    "executionInfo": {
     "elapsed": 14543,
     "status": "ok",
     "timestamp": 1601966067046,
     "user": {
      "displayName": "이교구",
      "photoUrl": "https://lh3.googleusercontent.com/a-/AOh14GjNOri9xonve0m-Jo6yCN6BkmT9v3L4KYaEF9ZYr_w=s64",
      "userId": "07866578970000881110"
     },
     "user_tz": -540
    },
    "id": "9nWrW3dTcyVy",
    "outputId": "369d484f-f2cb-479a-8e75-17949e8cc18e"
   },
   "outputs": [
    {
     "name": "stdout",
     "output_type": "stream",
     "text": [
      "[2.54134771] [2.69342714]\n"
     ]
    }
   ],
   "source": [
    "# Building the model\n",
    "m = 0\n",
    "c = 0\n",
    "\n",
    "X = x\n",
    "Y = y\n",
    "\n",
    "L = 0.0001  # The learning Rate\n",
    "epochs = 100000  # The number of iterations to perform gradient descent\n",
    "\n",
    "n = float(len(X)) # Number of elements in X\n",
    "\n",
    "# Performing Gradient Descent \n",
    "for i in range(epochs): \n",
    "    Y_pred = m*X + c  # The current predicted value of Y\n",
    "    D_m = (-2/n) * sum(X * (Y - Y_pred))  # Derivative wrt m\n",
    "    D_c = (-2/n) * sum(Y - Y_pred)  # Derivative wrt c\n",
    "    m = m - L * D_m  # Update m\n",
    "    c = c - L * D_c  # Update c\n",
    "    \n",
    "print(m, c)"
   ]
  },
  {
   "cell_type": "code",
   "execution_count": 4,
   "metadata": {
    "colab": {
     "base_uri": "https://localhost:8080/",
     "height": 268
    },
    "executionInfo": {
     "elapsed": 883,
     "status": "ok",
     "timestamp": 1601965953042,
     "user": {
      "displayName": "이교구",
      "photoUrl": "https://lh3.googleusercontent.com/a-/AOh14GjNOri9xonve0m-Jo6yCN6BkmT9v3L4KYaEF9ZYr_w=s64",
      "userId": "07866578970000881110"
     },
     "user_tz": -540
    },
    "id": "cRTMQYR1gbbp",
    "outputId": "b88642c8-d434-446c-8110-03a92f3b7465"
   },
   "outputs": [
    {
     "data": {
      "image/png": "[encoded data removed]",
      "text/plain": [
       "<Figure size 432x288 with 1 Axes>"
      ]
     },
     "metadata": {
      "needs_background": "light",
      "tags": []
     },
     "output_type": "display_data"
    }
   ],
   "source": [
    "# plot results\n",
    "\n",
    "Y_pred = m*X + c\n",
    "\n",
    "plt.scatter(X, Y) \n",
    "plt.plot([min(X), max(X)], [min(Y_pred), max(Y_pred)], color='red')  # regression line\n",
    "plt.show()"
   ]
  },
  {
   "cell_type": "markdown",
   "metadata": {
    "id": "NP8eni5lJxxA"
   },
   "source": [
    "# lab5 - 2 : Linear Regression using scikit-learn"
   ]
  },
  {
   "cell_type": "code",
   "execution_count": 7,
   "metadata": {
    "colab": {
     "base_uri": "https://localhost:8080/",
     "height": 68
    },
    "executionInfo": {
     "elapsed": 1086,
     "status": "ok",
     "timestamp": 1601966153825,
     "user": {
      "displayName": "이교구",
      "photoUrl": "https://lh3.googleusercontent.com/a-/AOh14GjNOri9xonve0m-Jo6yCN6BkmT9v3L4KYaEF9ZYr_w=s64",
      "userId": "07866578970000881110"
     },
     "user_tz": -540
    },
    "id": "xNQoGkt-JRZJ",
    "outputId": "3059251a-c1d6-4d45-b66e-831dad91668e"
   },
   "outputs": [
    {
     "name": "stdout",
     "output_type": "stream",
     "text": [
      "0.8968056877313602\n",
      "[[2.92754349]]\n",
      "[2.49392672]\n"
     ]
    }
   ],
   "source": [
    "from sklearn.linear_model import LinearRegression\n",
    "reg = LinearRegression().fit(X, y)\n",
    "print(reg.score(X, y))\n",
    "print(reg.coef_)\n",
    "print(reg.intercept_ )"
   ]
  },
  {
   "cell_type": "markdown",
   "metadata": {
    "id": "WykWrjL91gRN"
   },
   "source": [
    "# lab5 - 3 : Logistic Regression from Scratch"
   ]
  },
  {
   "cell_type": "code",
   "execution_count": 8,
   "metadata": {
    "colab": {
     "base_uri": "https://localhost:8080/",
     "height": 279
    },
    "executionInfo": {
     "elapsed": 2750,
     "status": "ok",
     "timestamp": 1601966182850,
     "user": {
      "displayName": "이교구",
      "photoUrl": "https://lh3.googleusercontent.com/a-/AOh14GjNOri9xonve0m-Jo6yCN6BkmT9v3L4KYaEF9ZYr_w=s64",
      "userId": "07866578970000881110"
     },
     "user_tz": -540
    },
    "id": "zhKHFL6jwPGG",
    "outputId": "6cf3559b-73e9-4382-fee3-c478c5be4867"
   },
   "outputs": [
    {
     "data": {
      "image/png": "[encoded data removed]",
      "text/plain": [
       "<Figure size 432x288 with 1 Axes>"
      ]
     },
     "metadata": {
      "needs_background": "light",
      "tags": []
     },
     "output_type": "display_data"
    }
   ],
   "source": [
    "import pandas as pd\n",
    "\n",
    "path = '/content/drive/My Drive/machine_listening_2020/lab/lab5/data/data_classification.txt'\n",
    "\n",
    "data = pd.read_csv(path, header=None)\n",
    "\n",
    "\n",
    "X = data.iloc[:, :-1]\n",
    "y = data.iloc[:, -1]\n",
    "\n",
    "admitted = data.loc[y == 1]\n",
    "\n",
    "not_admitted = data.loc[y == 0]\n",
    "\n",
    "    # plots\n",
    "plt.xlabel('Marks in 1st Exam')\n",
    "plt.ylabel('Marks in 2nd Exam')\n",
    "plt.scatter(admitted.iloc[:, 0], admitted.iloc[:, 1], s=10, label='Admitted')\n",
    "plt.scatter(not_admitted.iloc[:, 0], not_admitted.iloc[:, 1], s=10, label='Not Admitted')\n",
    "plt.legend()\n",
    "plt.show()\n"
   ]
  },
  {
   "cell_type": "code",
   "execution_count": 10,
   "metadata": {
    "executionInfo": {
     "elapsed": 775,
     "status": "ok",
     "timestamp": 1601966416548,
     "user": {
      "displayName": "이교구",
      "photoUrl": "https://lh3.googleusercontent.com/a-/AOh14GjNOri9xonve0m-Jo6yCN6BkmT9v3L4KYaEF9ZYr_w=s64",
      "userId": "07866578970000881110"
     },
     "user_tz": -540
    },
    "id": "p760WTbVoXfA"
   },
   "outputs": [],
   "source": [
    "class myLogisticRegression:\n",
    "    def __init__(self, lr=0.01, num_iter=100000, fit_intercept=True, verbose=False):\n",
    "        self.lr = lr\n",
    "        self.num_iter = num_iter\n",
    "        self.fit_intercept = fit_intercept\n",
    "        self.verbose = verbose\n",
    "    \n",
    "    def __add_intercept(self, X):\n",
    "        intercept = np.ones((X.shape[0], 1))\n",
    "        return np.concatenate((intercept, X), axis=1)\n",
    "    \n",
    "    def __sigmoid(self, z):\n",
    "        return 1 / (1 + np.exp(-z))\n",
    "    def __loss(self, h, y):\n",
    "        return (-y * np.log(h) - (1 - y) * np.log(1 - h)).mean()\n",
    "    \n",
    "    def fit(self, X, y):\n",
    "        if self.fit_intercept:\n",
    "            X = self.__add_intercept(X)\n",
    "        \n",
    "        # weights initialization\n",
    "        self.theta = np.zeros(X.shape[1])\n",
    "        \n",
    "        for i in range(self.num_iter):\n",
    "            z = np.dot(X, self.theta)\n",
    "            h = self.__sigmoid(z)\n",
    "            gradient = np.dot(X.T, (h - y)) / y.size\n",
    "            self.theta -= self.lr * gradient\n",
    "            \n",
    "            if(self.verbose == True and i % 10000 == 0):\n",
    "                z = np.dot(X, self.theta)\n",
    "                h = self.__sigmoid(z)\n",
    "                print(f'loss: {self.__loss(h, y)} \\t')\n",
    "    \n",
    "    def predict_prob(self, X):\n",
    "        if self.fit_intercept:\n",
    "            X = self.__add_intercept(X)\n",
    "    \n",
    "        return self.__sigmoid(np.dot(X, self.theta))\n",
    "    \n",
    "    def predict(self, X, threshold):\n",
    "        return self.predict_prob(X) >= threshold"
   ]
  },
  {
   "cell_type": "code",
   "execution_count": 11,
   "metadata": {
    "executionInfo": {
     "elapsed": 60543,
     "status": "ok",
     "timestamp": 1601966479098,
     "user": {
      "displayName": "이교구",
      "photoUrl": "https://lh3.googleusercontent.com/a-/AOh14GjNOri9xonve0m-Jo6yCN6BkmT9v3L4KYaEF9ZYr_w=s64",
      "userId": "07866578970000881110"
     },
     "user_tz": -540
    },
    "id": "QElAXNEeocaN"
   },
   "outputs": [],
   "source": [
    "# make and fit model\n",
    "\n",
    "model = myLogisticRegression(lr=0.1, num_iter=300000)\n",
    "model.fit(X, y)\n"
   ]
  },
  {
   "cell_type": "code",
   "execution_count": 12,
   "metadata": {
    "colab": {
     "base_uri": "https://localhost:8080/",
     "height": 313
    },
    "executionInfo": {
     "elapsed": 842,
     "status": "ok",
     "timestamp": 1601966487351,
     "user": {
      "displayName": "이교구",
      "photoUrl": "https://lh3.googleusercontent.com/a-/AOh14GjNOri9xonve0m-Jo6yCN6BkmT9v3L4KYaEF9ZYr_w=s64",
      "userId": "07866578970000881110"
     },
     "user_tz": -540
    },
    "id": "zS-A4o8rvX6R",
    "outputId": "4a450b02-a162-42b8-ceef-eb632141ae94"
   },
   "outputs": [
    {
     "name": "stdout",
     "output_type": "stream",
     "text": [
      "0.88\n",
      "[-605.23048544    4.76304661    4.73375034]\n"
     ]
    },
    {
     "data": {
      "image/png": "[encoded data removed]",
      "text/plain": [
       "<Figure size 432x288 with 1 Axes>"
      ]
     },
     "metadata": {
      "needs_background": "light",
      "tags": []
     },
     "output_type": "display_data"
    }
   ],
   "source": [
    "# results\n",
    "\n",
    "preds = model.predict(X,0.5)\n",
    "print((preds == y).mean())\n",
    "print(model.theta)\n",
    "\n",
    "plt.scatter(admitted.iloc[:, 0], admitted.iloc[:, 1], s=10, label='Admitted')\n",
    "plt.scatter(not_admitted.iloc[:, 0], not_admitted.iloc[:, 1], s=10, label='Not Admitted')\n",
    "plt.legend()\n",
    "\n",
    "x_values = [30, 100]\n",
    "y_values = - (model.theta[0] + np.dot(model.theta[1], x_values)) / model.theta[2]\n",
    "\n",
    "plt.plot(x_values, y_values, label='Decision Boundary')\n",
    "plt.xlabel('Marks in 1st Exam')\n",
    "plt.ylabel('Marks in 2nd Exam')\n",
    "plt.legend()\n",
    "plt.show()"
   ]
  },
  {
   "cell_type": "markdown",
   "metadata": {
    "id": "qzb2LF-j16Za"
   },
   "source": [
    "# lab5 - 4 : Logistic Regression using scikit-learn"
   ]
  },
  {
   "cell_type": "code",
   "execution_count": 13,
   "metadata": {
    "colab": {
     "base_uri": "https://localhost:8080/",
     "height": 68
    },
    "executionInfo": {
     "elapsed": 884,
     "status": "ok",
     "timestamp": 1601966549199,
     "user": {
      "displayName": "이교구",
      "photoUrl": "https://lh3.googleusercontent.com/a-/AOh14GjNOri9xonve0m-Jo6yCN6BkmT9v3L4KYaEF9ZYr_w=s64",
      "userId": "07866578970000881110"
     },
     "user_tz": -540
    },
    "id": "B_5zsunRKHqF",
    "outputId": "2beb6dd1-a479-4ecf-af49-4f34f0e90037"
   },
   "outputs": [
    {
     "name": "stdout",
     "output_type": "stream",
     "text": [
      "0.89\n",
      "[[0.20535491 0.2005838 ]]\n",
      "[-25.05219314]\n"
     ]
    }
   ],
   "source": [
    "from sklearn.linear_model import LogisticRegression\n",
    "reg = LogisticRegression().fit(X, y)\n",
    "print(reg.score(X, y))\n",
    "print(reg.coef_)\n",
    "print(reg.intercept_)"
   ]
  }
 ],
 "metadata": {
  "accelerator": "GPU",
  "colab": {
   "collapsed_sections": [],
   "name": "lab5_Linear Regression and Logistic Regression.ipynb",
   "provenance": [],
   "toc_visible": true
  },
  "kernelspec": {
   "display_name": "Python 3",
   "language": "python",
   "name": "python3"
  },
  "language_info": {
   "codemirror_mode": {
    "name": "ipython",
    "version": 3
   },
   "file_extension": ".py",
   "mimetype": "text/x-python",
   "name": "python",
   "nbconvert_exporter": "python",
   "pygments_lexer": "ipython3",
   "version": "3.8.5"
  }
 },
 "nbformat": 4,
 "nbformat_minor": 1
}
