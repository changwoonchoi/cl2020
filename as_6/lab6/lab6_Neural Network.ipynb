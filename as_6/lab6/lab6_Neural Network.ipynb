{
 "cells": [
  {
   "cell_type": "markdown",
   "metadata": {
    "id": "vMB98jPKcTMl"
   },
   "source": [
    "# Machine Listening (Fall 2020)\n",
    "# Lab6: Neural Network"
   ]
  },
  {
   "cell_type": "code",
   "execution_count": 1,
   "metadata": {
    "colab": {
     "base_uri": "https://localhost:8080/",
     "height": 34
    },
    "executionInfo": {
     "elapsed": 24027,
     "status": "ok",
     "timestamp": 1602571927001,
     "user": {
      "displayName": "­전창빈 / 학생 / 지능정보융합학과",
      "photoUrl": "",
      "userId": "13901801290051175630"
     },
     "user_tz": -540
    },
    "id": "Z7QNrWO8TaDH",
    "outputId": "b646262f-ad92-4e4b-aa95-886b1111d863"
   },
   "outputs": [
    {
     "name": "stdout",
     "output_type": "stream",
     "text": [
      "Mounted at /content/drive\n"
     ]
    }
   ],
   "source": [
    "from google.colab import drive\n",
    "drive.mount('/content/drive')"
   ]
  },
  {
   "cell_type": "markdown",
   "metadata": {
    "id": "A8BJTF6OcUeN"
   },
   "source": [
    "# lab6 - 1 : Single Layer Perceptron from Scratch"
   ]
  },
  {
   "cell_type": "markdown",
   "metadata": {
    "id": "Zq0pFE14oZ8X"
   },
   "source": [
    "Class to create a single layer perceptron"
   ]
  },
  {
   "cell_type": "code",
   "execution_count": 19,
   "metadata": {
    "executionInfo": {
     "elapsed": 855,
     "status": "ok",
     "timestamp": 1602571936358,
     "user": {
      "displayName": "­전창빈 / 학생 / 지능정보융합학과",
      "photoUrl": "",
      "userId": "13901801290051175630"
     },
     "user_tz": -540
    },
    "id": "fULDxo6ZN-CN"
   },
   "outputs": [],
   "source": [
    "import numpy as np\n",
    "from numpy import exp, array, random, dot, tanh\n",
    "  \n",
    "def sigmoid(x):\n",
    "  return 1 / (1 +np.exp(-x))\n",
    "\n",
    "class Network():\n",
    "    def __init__(self):\n",
    "      self.w = 2 * random.random((3, 1)) - 1  # 3x1 Weight matrix \n",
    "    \n",
    "    def activation(self,x):\n",
    "      return sigmoid(x)\n",
    "\n",
    "    def activation_derivative(self, x):\n",
    "      return sigmoid(x)*(1-sigmoid(x))\n",
    "\n",
    "    def forward_propagation(self, x):\n",
    "\n",
    "        return self.activation(dot(x, self.w))\n",
    "\n",
    "    # training the network. \n",
    "    def train(self, x, y, num_train_iterations,lr):\n",
    "                                  \n",
    "        for iteration in range(num_train_iterations): \n",
    "            a = self.forward_propagation(x)\n",
    "            dz = a-y\n",
    "            dw = dot(x.T, dz * self.activation_derivative(a))\n",
    "            self.w = self.w - lr*dw\n"
   ]
  },
  {
   "cell_type": "markdown",
   "metadata": {
    "id": "wSjlWY48oYdW"
   },
   "source": [
    "make simple training data"
   ]
  },
  {
   "cell_type": "code",
   "execution_count": 20,
   "metadata": {
    "executionInfo": {
     "elapsed": 822,
     "status": "ok",
     "timestamp": 1602571957284,
     "user": {
      "displayName": "­전창빈 / 학생 / 지능정보융합학과",
      "photoUrl": "",
      "userId": "13901801290051175630"
     },
     "user_tz": -540
    },
    "id": "l8sfNMATovli"
   },
   "outputs": [],
   "source": [
    "train_inputs = array([[0, 0, 1], [1, 1, 1], [1, 0, 1], [0, 1, 1]])\n",
    "train_outputs = array([[0, 1, 1, 0]]).T"
   ]
  },
  {
   "cell_type": "markdown",
   "metadata": {
    "id": "WS22b58iowyx"
   },
   "source": [
    "define and train the model"
   ]
  },
  {
   "cell_type": "code",
   "execution_count": 21,
   "metadata": {
    "colab": {
     "base_uri": "https://localhost:8080/",
     "height": 153
    },
    "executionInfo": {
     "elapsed": 863,
     "status": "ok",
     "timestamp": 1602571960736,
     "user": {
      "displayName": "­전창빈 / 학생 / 지능정보융합학과",
      "photoUrl": "",
      "userId": "13901801290051175630"
     },
     "user_tz": -540
    },
    "id": "3MMmo9fgoYk-",
    "outputId": "34369174-76a0-439f-9dc3-c9420d4f02cf"
   },
   "outputs": [
    {
     "name": "stdout",
     "output_type": "stream",
     "text": [
      "Random weights at the start of training\n",
      "[[-0.59014898]\n",
      " [-0.6783099 ]\n",
      " [ 0.16281485]]\n",
      "New weights after training\n",
      "[[10.39549271]\n",
      " [-0.42049467]\n",
      " [-4.9016357 ]]\n"
     ]
    }
   ],
   "source": [
    "network = Network() \n",
    "print ('Random weights at the start of training') \n",
    "print (network.w)\n",
    "\n",
    "network.train(train_inputs, train_outputs, 10000,0.1)\n",
    "\n",
    "print ('New weights after training')\n",
    "print (network.w)"
   ]
  },
  {
   "cell_type": "markdown",
   "metadata": {
    "id": "oFp5zYEto8P3"
   },
   "source": [
    "test the neural network with a new input.\n"
   ]
  },
  {
   "cell_type": "code",
   "execution_count": 22,
   "metadata": {
    "colab": {
     "base_uri": "https://localhost:8080/",
     "height": 51
    },
    "executionInfo": {
     "elapsed": 898,
     "status": "ok",
     "timestamp": 1602571967728,
     "user": {
      "displayName": "­전창빈 / 학생 / 지능정보융합학과",
      "photoUrl": "",
      "userId": "13901801290051175630"
     },
     "user_tz": -540
    },
    "id": "QnYgzMMcxQ3k",
    "outputId": "f5d3d4da-e7d2-46eb-844a-4569f0714786"
   },
   "outputs": [
    {
     "name": "stdout",
     "output_type": "stream",
     "text": [
      "Testing network on new examples ->\n",
      "[0.45746919]\n"
     ]
    }
   ],
   "source": [
    "print (\"Testing network on new examples ->\")\n",
    "print (network.forward_propagation(array([.02, 0.9, 0])))"
   ]
  },
  {
   "cell_type": "markdown",
   "metadata": {
    "id": "I86B-TrN0CIX"
   },
   "source": [
    "# lab6 - 2 : Neural Network with One Hidden Layer from Scratch"
   ]
  },
  {
   "cell_type": "code",
   "execution_count": 23,
   "metadata": {
    "colab": {
     "base_uri": "https://localhost:8080/",
     "height": 279
    },
    "executionInfo": {
     "elapsed": 2166,
     "status": "ok",
     "timestamp": 1602571980559,
     "user": {
      "displayName": "­전창빈 / 학생 / 지능정보융합학과",
      "photoUrl": "",
      "userId": "13901801290051175630"
     },
     "user_tz": -540
    },
    "id": "eQxiJGIBTYlO",
    "outputId": "69d084fa-c488-4ce4-b439-076981ad2a1b"
   },
   "outputs": [
    {
     "data": {
      "image/png": "[encoded data removed]",
      "text/plain": [
       "<Figure size 432x288 with 1 Axes>"
      ]
     },
     "metadata": {
      "needs_background": "light"
     },
     "output_type": "display_data"
    }
   ],
   "source": [
    "import pandas as pd\n",
    "import matplotlib.pyplot as plt\n",
    "\n",
    "path = './data/data_classification.txt'\n",
    "\n",
    "data = pd.read_csv(path, header=None)\n",
    "\n",
    "X = data.iloc[:, :-1]\n",
    "y = data.iloc[:, -1]\n",
    "\n",
    "admitted = data.loc[y == 1]\n",
    "\n",
    "not_admitted = data.loc[y == 0]\n",
    "\n",
    "    # plots\n",
    "plt.xlabel('Marks in 1st Exam')\n",
    "plt.ylabel('Marks in 2nd Exam')\n",
    "plt.scatter(admitted.iloc[:, 0], admitted.iloc[:, 1], s=10, label='Admitted')\n",
    "plt.scatter(not_admitted.iloc[:, 0], not_admitted.iloc[:, 1], s=10, label='Not Admitted')\n",
    "plt.legend()\n",
    "plt.show()\n",
    "\n",
    "X = X.T\n",
    "y = y.T\n",
    "X = X.to_numpy()\n",
    "y = y.to_numpy()\n",
    "y = [y]\n",
    "y = np.array(y)\n",
    "\n"
   ]
  },
  {
   "cell_type": "markdown",
   "metadata": {
    "id": "vAAUci76r9LF"
   },
   "source": [
    "Class to create a neural network with one hidden layer"
   ]
  },
  {
   "cell_type": "code",
   "execution_count": 45,
   "metadata": {
    "executionInfo": {
     "elapsed": 868,
     "status": "ok",
     "timestamp": 1602572048824,
     "user": {
      "displayName": "­전창빈 / 학생 / 지능정보융합학과",
      "photoUrl": "",
      "userId": "13901801290051175630"
     },
     "user_tz": -540
    },
    "id": "0nLdAXZZ0AJm"
   },
   "outputs": [],
   "source": [
    "import numpy as np\n",
    "  \n",
    "def sigmoid(x):\n",
    "  return 1 / (1 +np.exp(-x))\n",
    "\n",
    "class NeuralNetwork(object):\n",
    "    def __init__(self, layers):\n",
    "        self.layers = layers\n",
    "        self.w = [] # weights\n",
    "        self.b = [] # biases\n",
    "        # initialize weights and bias with random value\n",
    "        np.random.seed(1)\n",
    "        for i in range(len(layers)-1):\n",
    "            self.w.append(np.random.randn(layers[i+1], layers[i]))\n",
    "            self.b.append(np.random.randn(layers[i+1], 1))\n",
    "\n",
    "    def activation(self,x):\n",
    "      return sigmoid(x)\n",
    "\n",
    "    def activation_derivative(self, x):\n",
    "      return sigmoid(x)*(1-sigmoid(x))\n",
    "\n",
    "    def forward_propagation(self, x):\n",
    "        # return the feedforward value for x\n",
    "        a = np.copy(x)\n",
    "        z_s = [] # feedforward before activaiton\n",
    "        a_s = [a] # feedforward after activaiton\n",
    "        for i in range(len(self.w)):\n",
    "            print(self.w[i].shape)\n",
    "            print(a.shape)\n",
    "            print(self.b[i].shape)\n",
    "            z_s.append(self.w[i].dot(a) + self.b[i])\n",
    "            a = self.activation(z_s[-1])\n",
    "            a_s.append(a)\n",
    "        return (z_s, a_s)\n",
    "\n",
    "    def backpropagation(self,y, z_s, a_s):\n",
    "        dw = [] # derivitives respect to biases\n",
    "        db = [] # derivitives respect to weight\n",
    "        dz = [None] * len(self.w) # deltas\n",
    "\n",
    "        # insert the last layer error\n",
    "        dz[-1] = (a_s[-1]-y)\n",
    "\n",
    "        # Perform BackPropagation\n",
    "        for i in reversed(range(len(dz)-1)):\n",
    "            da = self.w[i+1].T.dot(dz[i+1])\n",
    "            dz[i] = da*self.activation_derivative(z_s[i])\n",
    "        \n",
    "        batch_size = y.shape[1]\n",
    "        db = [d.dot(np.ones((batch_size,1)))/float(batch_size) for d in dz]\n",
    "        dw = [d.dot(a_s[i].T)/float(batch_size) for i,d in enumerate(dz)]\n",
    "        return dw, db\n",
    "\n",
    "\n",
    "    def train(self, x, y, batch_size, epochs, lr):\n",
    "        for e in range(epochs):\n",
    "            i=0\n",
    "            while(i<len(y)):\n",
    "                x_batch = x[i:i+batch_size]\n",
    "                print('x_batch')\n",
    "                print(x_batch.shape)\n",
    "                y_batch = y[i:i+batch_size]\n",
    "                i = i+batch_size\n",
    "                z_s, a_s = self.forward_propagation(x_batch)\n",
    "                dw, db = self.backpropagation(y_batch, z_s, a_s)\n",
    "                self.w = [w-lr*dweight for w,dweight in  zip(self.w, dw)]\n",
    "                self.b = [w-lr*dbias for w,dbias in  zip(self.b, db)]\n",
    "                if e % 1000 == 0:\n",
    "                  print(\"epoch : \" + str(e))\n",
    "                  print(\"loss = {}\".format(np.linalg.norm(a_s[-1]-y_batch)))\n"
   ]
  },
  {
   "cell_type": "markdown",
   "metadata": {
    "id": "ueFjmpCwsDNY"
   },
   "source": [
    "define the network"
   ]
  },
  {
   "cell_type": "code",
   "execution_count": 46,
   "metadata": {
    "executionInfo": {
     "elapsed": 768,
     "status": "ok",
     "timestamp": 1602572050824,
     "user": {
      "displayName": "­전창빈 / 학생 / 지능정보융합학과",
      "photoUrl": "",
      "userId": "13901801290051175630"
     },
     "user_tz": -540
    },
    "id": "phjgCVQmsLok"
   },
   "outputs": [],
   "source": [
    "nn = NeuralNetwork([2, 300, 1])"
   ]
  },
  {
   "cell_type": "code",
   "execution_count": 48,
   "metadata": {},
   "outputs": [
    {
     "name": "stdout",
     "output_type": "stream",
     "text": [
      "(2, 100)\n"
     ]
    }
   ],
   "source": [
    "print(X.shape)"
   ]
  },
  {
   "cell_type": "markdown",
   "metadata": {
    "id": "F3gCq5hCsNJ9"
   },
   "source": [
    "train the network"
   ]
  },
  {
   "cell_type": "code",
   "execution_count": 26,
   "metadata": {
    "colab": {
     "base_uri": "https://localhost:8080/",
     "height": 527
    },
    "executionInfo": {
     "elapsed": 47550,
     "status": "ok",
     "timestamp": 1602572099110,
     "user": {
      "displayName": "­전창빈 / 학생 / 지능정보융합학과",
      "photoUrl": "",
      "userId": "13901801290051175630"
     },
     "user_tz": -540
    },
    "id": "WC9E02HBsQqf",
    "outputId": "13ce2d4f-c7ad-4e98-a8ba-3ec797da9f37"
   },
   "outputs": [
    {
     "name": "stdout",
     "output_type": "stream",
     "text": [
      "epoch : 0\n",
      "loss = 7.74561545885842\n",
      "epoch : 1000\n",
      "loss = 4.2846308685790815\n",
      "epoch : 2000\n",
      "loss = 4.178922071104522\n",
      "epoch : 3000\n",
      "loss = 4.068997476716166\n",
      "epoch : 4000\n",
      "loss = 3.911093433062891\n",
      "epoch : 5000\n",
      "loss = 3.8547354727312237\n",
      "epoch : 6000\n",
      "loss = 3.8193030213191372\n",
      "epoch : 7000\n",
      "loss = 3.8053584488392427\n",
      "epoch : 8000\n",
      "loss = 3.792167970613432\n",
      "epoch : 9000\n",
      "loss = 3.7782949795248824\n",
      "epoch : 10000\n",
      "loss = 3.7630944295328903\n",
      "epoch : 11000\n",
      "loss = 3.745674125891892\n",
      "epoch : 12000\n",
      "loss = 3.7255318274902627\n",
      "epoch : 13000\n",
      "loss = 3.7062108634532613\n",
      "epoch : 14000\n",
      "loss = 3.690058924384245\n"
     ]
    }
   ],
   "source": [
    "nn.train(X, y, epochs=15000, batch_size=64, lr = 0.001)"
   ]
  },
  {
   "cell_type": "markdown",
   "metadata": {
    "id": "6B7_JPutsVHp"
   },
   "source": [
    "plot raw results"
   ]
  },
  {
   "cell_type": "code",
   "execution_count": 27,
   "metadata": {
    "colab": {
     "base_uri": "https://localhost:8080/",
     "height": 279
    },
    "executionInfo": {
     "elapsed": 1396,
     "status": "ok",
     "timestamp": 1602559924964,
     "user": {
      "displayName": "­전창빈 / 학생 / 지능정보융합학과",
      "photoUrl": "",
      "userId": "13901801290051175630"
     },
     "user_tz": -540
    },
    "id": "H6bV9dABIirg",
    "outputId": "b01dfdfa-227b-4e54-c45f-68792eb97fa0"
   },
   "outputs": [
    {
     "data": {
      "image/png": "[encoded data removed]",
      "text/plain": [
       "<Figure size 432x288 with 1 Axes>"
      ]
     },
     "metadata": {
      "needs_background": "light"
     },
     "output_type": "display_data"
    }
   ],
   "source": [
    "import matplotlib.pyplot as plt\n",
    "\n",
    "_, a_s = nn.forward_propagation(X)\n",
    "\n",
    "plt.scatter(a_s[-1],y)\n",
    "plt.ylabel('ground truth')\n",
    "\n",
    "plt.xlabel('model output before thresholding')\n",
    "plt.show()"
   ]
  },
  {
   "cell_type": "markdown",
   "metadata": {
    "id": "fCTg4lUqgK0w"
   },
   "source": [
    "show classification accuracy after thresholding"
   ]
  },
  {
   "cell_type": "code",
   "execution_count": 28,
   "metadata": {
    "colab": {
     "base_uri": "https://localhost:8080/",
     "height": 34
    },
    "executionInfo": {
     "elapsed": 1311,
     "status": "ok",
     "timestamp": 1602559929855,
     "user": {
      "displayName": "­전창빈 / 학생 / 지능정보융합학과",
      "photoUrl": "",
      "userId": "13901801290051175630"
     },
     "user_tz": -540
    },
    "id": "NbU1llspgLAg",
    "outputId": "a7dbf859-3649-418f-b952-70cf1d34de0e"
   },
   "outputs": [
    {
     "name": "stdout",
     "output_type": "stream",
     "text": [
      "0.8\n"
     ]
    }
   ],
   "source": [
    "thresh = 0.5\n",
    "preds = np.where(a_s[-1] > 0.5, 1, 0)\n",
    "print((preds == y).mean())"
   ]
  },
  {
   "cell_type": "markdown",
   "metadata": {
    "id": "1VYqeJr-My3I"
   },
   "source": [
    "# lab6 - 3 : Multi Layer Deep Neural Network using Keras"
   ]
  },
  {
   "cell_type": "markdown",
   "metadata": {
    "id": "i5mJuhmKlMxF"
   },
   "source": [
    "import keras and get mnist data"
   ]
  },
  {
   "cell_type": "code",
   "execution_count": 29,
   "metadata": {
    "colab": {
     "base_uri": "https://localhost:8080/",
     "height": 51
    },
    "executionInfo": {
     "elapsed": 3162,
     "status": "ok",
     "timestamp": 1602559936910,
     "user": {
      "displayName": "­전창빈 / 학생 / 지능정보융합학과",
      "photoUrl": "",
      "userId": "13901801290051175630"
     },
     "user_tz": -540
    },
    "id": "VXhl9nwNlL5U",
    "outputId": "30252ddd-0751-4361-8cbc-30ecabf62f92"
   },
   "outputs": [
    {
     "name": "stdout",
     "output_type": "stream",
     "text": [
      "Downloading data from https://storage.googleapis.com/tensorflow/tf-keras-datasets/mnist.npz\n",
      "11493376/11490434 [==============================] - 2s 0us/step\n"
     ]
    }
   ],
   "source": [
    "from keras.datasets import mnist\n",
    "from keras.models import Sequential \n",
    "from keras.layers.core import Dense, Activation\n",
    "from keras.utils import np_utils\n",
    "\n",
    "(X_train, Y_train), (X_test, Y_test) = mnist.load_data()"
   ]
  },
  {
   "cell_type": "markdown",
   "metadata": {
    "id": "XMr2DKz_mj1U"
   },
   "source": [
    "show mnist data"
   ]
  },
  {
   "cell_type": "code",
   "execution_count": 30,
   "metadata": {
    "colab": {
     "base_uri": "https://localhost:8080/",
     "height": 282
    },
    "executionInfo": {
     "elapsed": 1328,
     "status": "ok",
     "timestamp": 1602559941798,
     "user": {
      "displayName": "­전창빈 / 학생 / 지능정보융합학과",
      "photoUrl": "",
      "userId": "13901801290051175630"
     },
     "user_tz": -540
    },
    "id": "qF1WpQqJlQw4",
    "outputId": "447bb16f-a7c1-4821-97aa-fd896af93088"
   },
   "outputs": [
    {
     "data": {
      "image/png": "[encoded data removed]",
      "text/plain": [
       "<Figure size 432x288 with 1 Axes>"
      ]
     },
     "metadata": {
      "needs_background": "light"
     },
     "output_type": "display_data"
    },
    {
     "name": "stdout",
     "output_type": "stream",
     "text": [
      "5\n"
     ]
    }
   ],
   "source": [
    "import numpy as np\n",
    "from matplotlib import pyplot as plt\n",
    "\n",
    "i = 1039\n",
    "\n",
    "image = X_train[i]\n",
    "image = np.array(image, dtype='float')\n",
    "pixels = image.reshape((28, 28))\n",
    "plt.imshow(pixels, cmap='gray')\n",
    "plt.show()\n",
    "print(Y_train[i])"
   ]
  },
  {
   "cell_type": "markdown",
   "metadata": {
    "id": "8jez4sX6mzBi"
   },
   "source": [
    "preprocess mnist data"
   ]
  },
  {
   "cell_type": "code",
   "execution_count": 31,
   "metadata": {
    "executionInfo": {
     "elapsed": 1351,
     "status": "ok",
     "timestamp": 1602559945466,
     "user": {
      "displayName": "­전창빈 / 학생 / 지능정보융합학과",
      "photoUrl": "",
      "userId": "13901801290051175630"
     },
     "user_tz": -540
    },
    "id": "c_Mh3f7ckf44"
   },
   "outputs": [],
   "source": [
    "X_train = X_train.reshape(60000, 784)\n",
    "X_test = X_test.reshape(10000, 784)\n",
    "X_train = X_train.astype('float32')\n",
    "X_test = X_test.astype('float32')\n",
    "X_train /= 255\n",
    "X_test /= 255\n",
    "classes = 10\n",
    "Y_train = np_utils.to_categorical(Y_train, classes)\n",
    "Y_test = np_utils.to_categorical(Y_test, classes)"
   ]
  },
  {
   "cell_type": "markdown",
   "metadata": {
    "id": "jdthpd6Om4Zl"
   },
   "source": [
    "setup model parameters"
   ]
  },
  {
   "cell_type": "code",
   "execution_count": 32,
   "metadata": {
    "executionInfo": {
     "elapsed": 1327,
     "status": "ok",
     "timestamp": 1602559948397,
     "user": {
      "displayName": "­전창빈 / 학생 / 지능정보융합학과",
      "photoUrl": "",
      "userId": "13901801290051175630"
     },
     "user_tz": -540
    },
    "id": "1zajpUxOm3pu"
   },
   "outputs": [],
   "source": [
    "input_size = 784\n",
    "batch_size = 100    \n",
    "hidden_neurons = 400\n",
    "epochs = 20"
   ]
  },
  {
   "cell_type": "markdown",
   "metadata": {
    "id": "qYunY1rhnEHa"
   },
   "source": [
    "build a dnn model (with three dense layers)"
   ]
  },
  {
   "cell_type": "code",
   "execution_count": 33,
   "metadata": {
    "executionInfo": {
     "elapsed": 7326,
     "status": "ok",
     "timestamp": 1602559956918,
     "user": {
      "displayName": "­전창빈 / 학생 / 지능정보융합학과",
      "photoUrl": "",
      "userId": "13901801290051175630"
     },
     "user_tz": -540
    },
    "id": "yLKy42AZnDki"
   },
   "outputs": [],
   "source": [
    "model = Sequential()     \n",
    "model.add(Dense(hidden_neurons, input_dim=input_size))\n",
    "model.add(Activation('relu'))\n",
    "model.add(Dense(classes, input_dim=hidden_neurons))\n",
    "model.add(Activation('relu'))\n",
    "model.add(Dense(classes, input_dim=hidden_neurons))\n",
    "model.add(Activation('softmax'))\n",
    "\n",
    "model.compile(loss='categorical_crossentropy', \n",
    "    metrics=['accuracy'], optimizer='adadelta')\n"
   ]
  },
  {
   "cell_type": "markdown",
   "metadata": {
    "id": "mAP_ZwThnaIu"
   },
   "source": [
    "train the dnn model"
   ]
  },
  {
   "cell_type": "code",
   "execution_count": 34,
   "metadata": {
    "colab": {
     "base_uri": "https://localhost:8080/",
     "height": 714
    },
    "executionInfo": {
     "elapsed": 26732,
     "status": "ok",
     "timestamp": 1602559985659,
     "user": {
      "displayName": "­전창빈 / 학생 / 지능정보융합학과",
      "photoUrl": "",
      "userId": "13901801290051175630"
     },
     "user_tz": -540
    },
    "id": "O1KmWw1UnZTW",
    "outputId": "2ad6f9cb-cdeb-4964-afc4-e659b755dfe1"
   },
   "outputs": [
    {
     "name": "stdout",
     "output_type": "stream",
     "text": [
      "Epoch 1/20\n",
      "600/600 [==============================] - 1s 1ms/step - loss: 2.2978 - accuracy: 0.1247\n",
      "Epoch 2/20\n",
      "600/600 [==============================] - 1s 1ms/step - loss: 2.2056 - accuracy: 0.2082\n",
      "Epoch 3/20\n",
      "600/600 [==============================] - 1s 1ms/step - loss: 2.1084 - accuracy: 0.3141\n",
      "Epoch 4/20\n",
      "600/600 [==============================] - 1s 1ms/step - loss: 2.0072 - accuracy: 0.4043\n",
      "Epoch 5/20\n",
      "600/600 [==============================] - 1s 1ms/step - loss: 1.9122 - accuracy: 0.4669\n",
      "Epoch 6/20\n",
      "600/600 [==============================] - 1s 1ms/step - loss: 1.8264 - accuracy: 0.5081\n",
      "Epoch 7/20\n",
      "600/600 [==============================] - 1s 1ms/step - loss: 1.7437 - accuracy: 0.5412\n",
      "Epoch 8/20\n",
      "600/600 [==============================] - 1s 1ms/step - loss: 1.6671 - accuracy: 0.5711\n",
      "Epoch 9/20\n",
      "600/600 [==============================] - 1s 1ms/step - loss: 1.5993 - accuracy: 0.5931\n",
      "Epoch 10/20\n",
      "600/600 [==============================] - 1s 1ms/step - loss: 1.5384 - accuracy: 0.6115\n",
      "Epoch 11/20\n",
      "600/600 [==============================] - 1s 1ms/step - loss: 1.4833 - accuracy: 0.6268\n",
      "Epoch 12/20\n",
      "600/600 [==============================] - 1s 1ms/step - loss: 1.4326 - accuracy: 0.6381\n",
      "Epoch 13/20\n",
      "600/600 [==============================] - 1s 1ms/step - loss: 1.3858 - accuracy: 0.6477\n",
      "Epoch 14/20\n",
      "600/600 [==============================] - 1s 1ms/step - loss: 1.3425 - accuracy: 0.6572\n",
      "Epoch 15/20\n",
      "600/600 [==============================] - 1s 1ms/step - loss: 1.3024 - accuracy: 0.6651\n",
      "Epoch 16/20\n",
      "600/600 [==============================] - 1s 1ms/step - loss: 1.2650 - accuracy: 0.6724\n",
      "Epoch 17/20\n",
      "600/600 [==============================] - 1s 1ms/step - loss: 1.2302 - accuracy: 0.6798\n",
      "Epoch 18/20\n",
      "600/600 [==============================] - 1s 1ms/step - loss: 1.1977 - accuracy: 0.6868\n",
      "Epoch 19/20\n",
      "600/600 [==============================] - 1s 1ms/step - loss: 1.1672 - accuracy: 0.6932\n",
      "Epoch 20/20\n",
      "600/600 [==============================] - 1s 1ms/step - loss: 1.1386 - accuracy: 0.6993\n"
     ]
    },
    {
     "data": {
      "text/plain": [
       "<tensorflow.python.keras.callbacks.History at 0x7f9f5fbbf7c0>"
      ]
     },
     "execution_count": 34,
     "metadata": {},
     "output_type": "execute_result"
    }
   ],
   "source": [
    "model.fit(X_train, Y_train, batch_size=batch_size, epochs=epochs, verbose=1)"
   ]
  },
  {
   "cell_type": "markdown",
   "metadata": {
    "id": "AyltGExjnb8w"
   },
   "source": [
    "evaluate the model with test data"
   ]
  },
  {
   "cell_type": "code",
   "execution_count": 35,
   "metadata": {
    "colab": {
     "base_uri": "https://localhost:8080/",
     "height": 68
    },
    "executionInfo": {
     "elapsed": 1843,
     "status": "ok",
     "timestamp": 1602559990992,
     "user": {
      "displayName": "­전창빈 / 학생 / 지능정보융합학과",
      "photoUrl": "",
      "userId": "13901801290051175630"
     },
     "user_tz": -540
    },
    "id": "htdpiQGmndho",
    "outputId": "d73784c7-fbe4-492e-b0ac-e9db825207d1"
   },
   "outputs": [
    {
     "name": "stdout",
     "output_type": "stream",
     "text": [
      "313/313 [==============================] - 0s 405us/step - loss: 1.1088 - accuracy: 0.7057\n",
      "\n",
      "Test accuracy: 0.7056999802589417\n"
     ]
    }
   ],
   "source": [
    "score = model.evaluate(X_test, Y_test, verbose=1)\n",
    "print('\\n''Test accuracy:', score[1])"
   ]
  },
  {
   "cell_type": "markdown",
   "metadata": {
    "id": "oVHyj52espID"
   },
   "source": [
    "print confusion matrix"
   ]
  },
  {
   "cell_type": "code",
   "execution_count": 36,
   "metadata": {
    "colab": {
     "base_uri": "https://localhost:8080/",
     "height": 204
    },
    "executionInfo": {
     "elapsed": 1788,
     "status": "ok",
     "timestamp": 1602559995962,
     "user": {
      "displayName": "­전창빈 / 학생 / 지능정보융합학과",
      "photoUrl": "",
      "userId": "13901801290051175630"
     },
     "user_tz": -540
    },
    "id": "4a2SvH0HspS7",
    "outputId": "c445682a-5699-4917-9f75-5ef936734968"
   },
   "outputs": [
    {
     "name": "stdout",
     "output_type": "stream",
     "text": [
      "Confusion Matrix\n",
      "[[ 950    0    1    0    5    0   22    1    1    0]\n",
      " [   0 1072   42    7    5    0    3    0    6    0]\n",
      " [  59   15  837   33   42    0   17   14   15    0]\n",
      " [  31    2   24  910   20    0    2   19    2    0]\n",
      " [   3    0    6    1  930    8   28    0    1    5]\n",
      " [ 107    5   37  200  417   56   24   17   25    4]\n",
      " [  24    2   15    0   52    0  856    0    9    0]\n",
      " [  30   28   34   22   16    6    6  878    3    5]\n",
      " [  53   16   28  116  323    7   11   10  410    0]\n",
      " [  34    6    5   27  449  216    4  110    0  158]]\n"
     ]
    }
   ],
   "source": [
    "from sklearn.metrics import classification_report, confusion_matrix\n",
    "Y_pred = model.predict(X_test)\n",
    "y_pred = np.argmax(Y_pred, axis=1)\n",
    "y_test = np.argmax(Y_test,axis=1)\n",
    "print('Confusion Matrix')\n",
    "print(confusion_matrix(y_test, y_pred))"
   ]
  },
  {
   "cell_type": "code",
   "execution_count": 37,
   "metadata": {
    "colab": {
     "base_uri": "https://localhost:8080/",
     "height": 581
    },
    "executionInfo": {
     "elapsed": 2743,
     "status": "ok",
     "timestamp": 1602560001685,
     "user": {
      "displayName": "­전창빈 / 학생 / 지능정보융합학과",
      "photoUrl": "",
      "userId": "13901801290051175630"
     },
     "user_tz": -540
    },
    "id": "zup_Uno7Mq7P",
    "outputId": "f4158b6e-cf7b-4232-dad3-a605f51582c5"
   },
   "outputs": [
    {
     "data": {
      "image/png": "[encoded data removed]",
      "text/plain": [
       "<Figure size 576x576 with 2 Axes>"
      ]
     },
     "metadata": {
      "needs_background": "light"
     },
     "output_type": "display_data"
    }
   ],
   "source": [
    "from sklearn.metrics import classification_report, confusion_matrix\n",
    "import itertools\n",
    "Y_pred = model.predict(X_test)\n",
    "y_pred = np.argmax(Y_pred, axis=1)\n",
    "y_gt = np.argmax(Y_test, axis=1)\n",
    "\n",
    "plt.figure(figsize=(8,8))\n",
    "cm = confusion_matrix(y_gt, y_pred)\n",
    "plt.imshow(cm, interpolation='nearest', cmap=plt.cm.Blues)\n",
    "plt.title(\"Confusion Matrix\")\n",
    "plt.colorbar()\n",
    "tick_marks = np.arange(10)\n",
    "plt.xticks(tick_marks, ['zero', 'one', 'two', 'three', 'four', 'five', 'six', 'seven', 'eight', 'nine'], rotation=45)\n",
    "plt.yticks(tick_marks, ['zero', 'one', 'two', 'three', 'four', 'five', 'six', 'seven', 'eight', 'nine'])\n",
    "thresh = cm.max()/2.\n",
    "normalize = False\n",
    "fmt = '.2f' if normalize else 'd'\n",
    "for i,j in itertools.product(range(cm.shape[0]), range(cm.shape[1])):\n",
    "  plt.text(j,i, format(cm[i,j], fmt), horizontalalignment=\"center\", color=\"white\" if cm[i,j] > thresh else \"black\")\n",
    "plt.ylabel(\"True Label\")\n",
    "plt.xlabel(\"Predicted Label\")\n",
    "plt.tight_layout()\n"
   ]
  },
  {
   "cell_type": "code",
   "execution_count": null,
   "metadata": {
    "id": "Ej0NqtnWMw3W"
   },
   "outputs": [],
   "source": []
  }
 ],
 "metadata": {
  "accelerator": "GPU",
  "colab": {
   "collapsed_sections": [],
   "name": "lab6_Neural Network.ipynb",
   "provenance": []
  },
  "kernelspec": {
   "display_name": "Python 3",
   "language": "python",
   "name": "python3"
  },
  "language_info": {
   "codemirror_mode": {
    "name": "ipython",
    "version": 3
   },
   "file_extension": ".py",
   "mimetype": "text/x-python",
   "name": "python",
   "nbconvert_exporter": "python",
   "pygments_lexer": "ipython3",
   "version": "3.8.5"
  }
 },
 "nbformat": 4,
 "nbformat_minor": 1
}
