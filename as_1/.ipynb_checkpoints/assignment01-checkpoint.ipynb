{
 "cells": [
  {
   "cell_type": "markdown",
   "metadata": {
    "colab_type": "text",
    "id": "lUUJG4PvY_w1"
   },
   "source": [
    "M2780.002400 Machine Listening (Fall 2020)\n",
    "\n",
    "Instructor: Kyogu Lee (kglee@snu.ac.kr)"
   ]
  },
  {
   "cell_type": "markdown",
   "metadata": {
    "colab_type": "text",
    "id": "fUL0sApaY_GE"
   },
   "source": [
    "# Assignment 1: Fundamentals of DSP for Audio/Music\n",
    "\n",
    "(160 points)\n",
    "\n",
    "**Due Date : This assignment is due by 12:59PM (before the class starts), September 15 (Tuesday)**\n",
    "\n",
    "\n",
    "\n",
    "---\n",
    "\n",
    "Assignment\n",
    "\n",
    "Each assignment is composed of two parts: a) in the theory part, you are required to solve the problem set, write down your answers on paper (also, typing your answers using PC or using tablet PC are fine), and send the scanned version (name_hw1.pdf) via **ETL**; b) for the lab assignment, you will need to write Notebook scripts and/or functions as required and submit them electronically (via **ETL**) by the end of the due date.\n",
    "\n"
   ]
  },
  {
   "cell_type": "markdown",
   "metadata": {
    "colab_type": "text",
    "id": "R0DdfTEXa_KN"
   },
   "source": [
    "# Theory (60pts)"
   ]
  },
  {
   "cell_type": "markdown",
   "metadata": {
    "colab_type": "text",
    "id": "uHHSmLKcbNMm"
   },
   "source": [
    "\n",
    "\n",
    "---\n",
    "\n",
    "\n",
    "\n",
    "1.   Sampling theorem (10pts)\n",
    "\n",
    "*   a. Explain the Nyquist limit.\n",
    "*   b. According to the sampling theorem, what is the highest cutoff frequency of a low-pass filter you must use in order to avoid aliasing given the sampling rate of 10 kHz (assume an ideal brick-wall filter)?\n",
    "\n",
    "\n",
    "\n",
    "---\n",
    "\n",
    "\n",
    "2.   Sinusoids (10 pts)\n",
    "\n",
    "*   a. For a sinusoid with a period  $ T_0 = 0.8 $  seconds, what is the frequency $ f_0 $ in Hz?\n",
    "*   b. If we sample the above sinusoid with the sampling rate $ f_s = 8000 $ Hz, what value do we obtain at the $ 100^{th} $ sample (i.e., $ n = 100 $ ), assuming the peak amplitude $ A = 1 $ and the initial phase $ \\phi_0 = 0 $ ?\n",
    "\n",
    "\n",
    "\n",
    "---\n",
    "\n",
    "\n",
    "3.   DFT (20 pts)\n",
    "\n",
    " Find the length $ N = 8 $ DFTs \n",
    " \n",
    " $$  X_i(k), k = 0,1,...6,7 $$\n",
    " \n",
    " for the following $ X_i(n) $  sequences (don’t use Python):\n",
    "\n",
    "\n",
    "*   a. $ x_1 = [1,0,0,0,0,0,0,0] $\n",
    "*   b. $ x_2 = [0,1,0,0,0,0,0,0] $\n",
    "*   c. $ x_3 = [1,1,1,1,1,1,1,1] $\n",
    "*   d. $ x_4 = [1,-1,1,-1,1,-1,1,-1] $\n",
    " \n",
    " (Hints : Remember Euler’s formula; i.e.,  $  e^{jq} = \\cos q+ j \\sin q $ )\n",
    "\n",
    "\n",
    "\n",
    "---\n",
    "\n",
    "\n",
    "4.   Zero padding (20pts)\n",
    "\n",
    " The zero padding factor or $zpf$ is the ratio of the length of the zero-padded signal ( $N$ ) to the length of the original signal ($M$): i.e.,\n",
    " \n",
    " $$ zpf = \\frac{N}{M} $$\n",
    "\n",
    "\n",
    "*   a. Explain zero padding.\n",
    "*   b. Assume you want to analyze a sinusoid whose frequency is $f_0 = 10 $ Hz with the sampling rate $f_s = 8000$ Hz, using the 1000-point FFT. What $zpf$ do you need to have the peak magnitude bin frequency correspond exactly to the correct frequency of the sinusoid?\n",
    "\n",
    "\n",
    "\n",
    "\n",
    "---\n",
    "\n"
   ]
  },
  {
   "cell_type": "markdown",
   "metadata": {
    "colab_type": "text",
    "id": "Xjk-jeatv4wy"
   },
   "source": [
    "# Lab (100pts)"
   ]
  },
  {
   "cell_type": "markdown",
   "metadata": {
    "colab_type": "text",
    "id": "UTC3Fb5GwLUk"
   },
   "source": [
    "For all lab assignments, submit your Notebook file (.ipynb) via **ETL**. The Notebook file should be named with your full name and the homework number – e.g., JohnDoe_hw1.ipynb. \n",
    "\n",
    "In addition to writing Python scripts and/or functions in your Notebook file, there are also questions you’ll have to answer. For such questions, you should provide answers in your Notebook file using Text sections.\n",
    "\n",
    "**Please submit the codes executed (make sure that the results of your codes are visible in the submitted assignments) so that the grader can check whether the code is working or not.**"
   ]
  },
  {
   "cell_type": "markdown",
   "metadata": {
    "colab_type": "text",
    "id": "cOTYwecdwRyX"
   },
   "source": [
    "\n",
    "\n",
    "---\n",
    "\n",
    "\n",
    "1.   Sinusoids (10pts)\n",
    "\n",
    "Write a function that generates a sine wave. Your function should take four parameters as an input – peak amplitude, frequency in Hz, initial phase in radians, duration in seconds, and the sampling frequency in Hz – and output a sinusoidal wave as a vector. The syntax of your function should look like:\n"
   ]
  },
  {
   "cell_type": "code",
   "execution_count": null,
   "metadata": {
    "colab": {},
    "colab_type": "code",
    "id": "W6s0gAcVxubN"
   },
   "outputs": [],
   "source": [
    "def sinewave(amp,freq,phs,dur,fs):\n",
    "\n",
    "    # Put your comments here to describe your function – what it does, what are the input arguments, etc.\n",
    "\n",
    "    # !!!! your code here !!!!\n",
    "    y = amp * np.sine()\n",
    "    \n",
    "    return y\n"
   ]
  },
  {
   "cell_type": "markdown",
   "metadata": {
    "colab_type": "text",
    "id": "dU4Jhw2_x6-a"
   },
   "source": [
    "Generate a few sinusoids with different amplitudes, frequencies, phases, durations, and/or sampling rate, and listen to them using IPython.display module"
   ]
  },
  {
   "cell_type": "code",
   "execution_count": null,
   "metadata": {
    "colab": {},
    "colab_type": "code",
    "id": "0M0QFlkkyLFL"
   },
   "outputs": [],
   "source": [
    "import IPython.display as ipd\n",
    "\n",
    "# !!!! your code here !!!!\n"
   ]
  },
  {
   "cell_type": "markdown",
   "metadata": {
    "colab_type": "text",
    "id": "_cG1J5qTyjZn"
   },
   "source": [
    "\n",
    "\n",
    "---\n",
    "\n",
    "\n",
    "2.   Additive synthesis (20 pts)\n",
    "\n",
    "Fourier theorem says any periodic signal can be described by a sum of sinusoids. Google the following periodic waves to find out how to synthesize them using sinusoids with different amplitudes, frequencies and phases. Write a python script to generate them using the function from the previous problem. Try different number of sinusoids ($ N = 5,10,30,100 $) and save each sound as a waveform using librosa.output.write_wav.\n",
    "\n",
    "\n",
    "\n",
    "*   a. Square wave (square_N5.wav, square_N10.wav, square_N30.wav, square_N100.wav)\n",
    "*   b. Triangle wave (triangle_N5.wav, triangle_N10.wav, triangle_N30.wav, triangle_N100.wav)\n",
    "*   c. Sawtooth wave (sawtooth_N5.wav, sawtooth_N10.wav, sawtooth_N30.wav, sawtooth_N100.wav)\n",
    "\n",
    "\n",
    "You should use the fundamental frequency $ f_0 = 440 $ Hz, and your sounds should be 1 second long. Plot the first five periods of three waves in one figure using matplotlib.pyplot.subplot. In each plot, display all four waves (with different number of sinusoids) in different colors and denote which uses how many sinusoids. You should save your sound files and plots, and include them in your submission."
   ]
  },
  {
   "cell_type": "code",
   "execution_count": null,
   "metadata": {
    "colab": {},
    "colab_type": "code",
    "id": "A5GvbGwT2JJi"
   },
   "outputs": [],
   "source": [
    "# !!!! your code here !!!!\n"
   ]
  },
  {
   "cell_type": "markdown",
   "metadata": {
    "colab_type": "text",
    "id": "j3axoMAF65VL"
   },
   "source": []
  },
  {
   "cell_type": "markdown",
   "metadata": {
    "colab_type": "text",
    "id": "ocZZnAw42WNQ"
   },
   "source": [
    "\n",
    "\n",
    "---\n",
    "\n",
    "\n",
    "\n",
    "3.   FFT analysis (10 pts)\n",
    "\n",
    "Write a python script that reads the sound files you generated in the previous problem, and that performs spectral analysis using numpy.fft.fft. Try different FFT sizes ($ N = 128,512,2018,8192 $) and plot the magnitudes of FFTs.\n",
    "\n",
    "Use one plot for each waveform and matplotlib.pyplot.subplot to plot FFTs with different sizes.\n",
    "\n"
   ]
  },
  {
   "cell_type": "code",
   "execution_count": null,
   "metadata": {
    "colab": {},
    "colab_type": "code",
    "id": "lV-LLFVF4VUZ"
   },
   "outputs": [],
   "source": [
    "# !!!! your code here !!!!\n"
   ]
  },
  {
   "cell_type": "markdown",
   "metadata": {
    "colab_type": "text",
    "id": "HCApj6XM4Wa6"
   },
   "source": [
    "How does each plot look as the FFT size varies? Do you see the peaks of the sinusoids at the expected locations and how do they vary as the FFT size changes? Explain these."
   ]
  },
  {
   "cell_type": "markdown",
   "metadata": {
    "colab_type": "text",
    "id": "HMNwJFHB4kgQ"
   },
   "source": [
    "***!!!! your explanation here !!!!***"
   ]
  },
  {
   "cell_type": "markdown",
   "metadata": {
    "colab_type": "text",
    "id": "6JF_kuar4u4-"
   },
   "source": [
    "\n",
    "\n",
    "---\n",
    "\n",
    "\n",
    "\n",
    "4.   Zero padding (20 pts) \n",
    "\n",
    "\n",
    "\n",
    "*   a. Create a 1 second sinusoid at 100.25 Hz using a sampling rate of 1024 Hz.\n",
    "*   b. Plot the magnitude spectrum of the sinusoid. Use matplotlib.pyplot.xlim to zoom in the plot to show the frequency range of 95-105 Hz.\n",
    "*   c. Zero-pad your sinusoid by a factor of 2 (i.e., $zpf = 2$), and repeat b.\n",
    "*   d. Repeat zero padding while you increase the $zpf$. Find the minimum $zpf$ you need to have the sinusoidal peak appear at the correct frequency. Plot the magnitude spectrum.\n",
    "\n",
    "\n"
   ]
  },
  {
   "cell_type": "code",
   "execution_count": null,
   "metadata": {
    "colab": {},
    "colab_type": "code",
    "id": "7wacs8Ck5gFI"
   },
   "outputs": [],
   "source": [
    "# !!!! your code here !!!!\n"
   ]
  },
  {
   "cell_type": "markdown",
   "metadata": {
    "colab_type": "text",
    "id": "RdLVfjkg5iz4"
   },
   "source": [
    "\n",
    "\n",
    "---\n",
    "\n",
    "\n",
    "\n",
    "\n",
    "5.   Windowing (20 pts)\n",
    "\n",
    "\n",
    "Using a python script you wrote in the previous assignment, generate a 0.1 second sawtooth wave with 5 harmonic series using the fundamental frequency of 440 Hz and the sampling rate of 8000 Hz.\n",
    "\n",
    "\n",
    "\n",
    "*   a. Plot the sawtooth wave and the magnitude spectrum in one figure using matplotlib.pyplot.subplot.\n",
    "*   b. Apply a window of your choice. Plot the windowed signal and the magnitude spectrum in one figure using matplotlib.pyplot.subplot.\n",
    "*   c. Zero-pad your windowed signal by a factor of 5 and plot the magnitude spectrum.\n",
    "*   d. Repeat a-c for a square wave and a triangular wave.\n"
   ]
  },
  {
   "cell_type": "code",
   "execution_count": null,
   "metadata": {
    "colab": {},
    "colab_type": "code",
    "id": "1wBHmInQ6SEy"
   },
   "outputs": [],
   "source": [
    "# !!!! your code here !!!!\n"
   ]
  },
  {
   "cell_type": "markdown",
   "metadata": {
    "colab_type": "text",
    "id": "bg9X7IJc6Wly"
   },
   "source": [
    "\n",
    "\n",
    "---\n",
    "\n",
    "\n",
    "\n",
    "6.   Short-time Fourier Transform (20 pts)\n",
    "\n",
    "Write a python function that generates a spectrogram of an input signal. It should take four arguments as inputs – input signal, sampling rate, FFT size in samples, window signal, and overlap between two consecutive frames in samples – and the outputs are the spectrogram, time indices in seconds, and frequency indices in Hz. Your function should look like the following:\n",
    "\n",
    "\n",
    "\n",
    "```\n",
    "def myspectrogram(x, fs, nfft, win,  novlp):\n",
    "\n",
    "      # Put your comments here to describe your function – what it does, what are the input arguments, etc.\n",
    "\n",
    "\n",
    "      your code\n",
    "\n",
    "  return [y, t, f]\n",
    "```\n",
    "\n",
    "\n",
    "\n",
    "\n",
    "*   a. Using your function, compute the spectrogram of T08-violin.wav available from the course homepage.\n",
    "*   b. Plot the magnitude spectrogram of the signal using librosa.display.specshow. Your x-axis must be time in seconds and y-axis frequency in Hz up to the half the sampling rate.\n",
    "*   c. Repeat b using librosa’s built-in librosa.core.stft function. Compare it with your version of spectrogram using matplotlib.pyplot.subplot.\n",
    "\n",
    "\n",
    "\n",
    "\n",
    "\n",
    "\n",
    "\n",
    " \n",
    "\n",
    " \n",
    "\n"
   ]
  },
  {
   "cell_type": "code",
   "execution_count": null,
   "metadata": {
    "colab": {},
    "colab_type": "code",
    "id": "MTfqsSr4_BaQ"
   },
   "outputs": [],
   "source": [
    "# !!!! your code here !!!!"
   ]
  }
 ],
 "metadata": {
  "colab": {
   "collapsed_sections": [],
   "name": "assignment01.ipynb",
   "provenance": []
  },
  "kernelspec": {
   "display_name": "Python 3",
   "language": "python",
   "name": "python3"
  },
  "language_info": {
   "codemirror_mode": {
    "name": "ipython",
    "version": 3
   },
   "file_extension": ".py",
   "mimetype": "text/x-python",
   "name": "python",
   "nbconvert_exporter": "python",
   "pygments_lexer": "ipython3",
   "version": "3.8.5"
  }
 },
 "nbformat": 4,
 "nbformat_minor": 1
}
