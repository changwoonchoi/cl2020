{
 "cells": [
  {
   "cell_type": "markdown",
   "metadata": {
    "id": "oR3pclAb4Ht8"
   },
   "source": [
    "M2780.002400 Machine Listening (Fall 2020)\n",
    "\n",
    "Instructor: Kyogu Lee (kglee@snu.ac.kr)"
   ]
  },
  {
   "cell_type": "markdown",
   "metadata": {
    "id": "SbvqAdck4JHM"
   },
   "source": [
    "# Assignment 6: Neural Networks\n",
    "\n",
    "(100 points)\n",
    "\n",
    "**Due Date : This assignment is due by 12:59PM, October 20 (Tuesday)**\n",
    "\n",
    "\n",
    "---\n",
    "\n",
    "Assignment\n",
    "\n",
    "Each assignment is composed of two parts: a) in the theory part, you are required to solve the problem set, write down your answers on paper (also, typing your answers using PC or tablet PC is fine), and upload the scanned version (**아무개_hw6.pdf**) via **ETL**; b) for the lab assignment, you will need to write Notebook scripts (**아무개_hw6.ipynb**) and/or functions as required and submit them electronically (via **ETL**) by the end of the due date."
   ]
  },
  {
   "cell_type": "markdown",
   "metadata": {
    "id": "3rSnOmJBntsv"
   },
   "source": [
    "# Theory (50 pts)"
   ]
  },
  {
   "cell_type": "markdown",
   "metadata": {
    "id": "UhUSsvScn2uq"
   },
   "source": [
    "\n",
    "---\n",
    "\n",
    "\n",
    "\n",
    "1.   Model Representation (10 pts)\n",
    "\n",
    "\n",
    " Suppose you want to train the digit classifier using a simple neural network (i.e. the number of output nodes is 10). The input is a square gray image with 100 pixels. (i.e. (10x10) for one image). If your network has only one hidden layer with 50 nodes, how many parameters will be updated in the training phase (HINT: do not forget the bias node)?\n"
   ]
  },
  {
   "cell_type": "markdown",
   "metadata": {
    "id": "MbpmsglQuuU0"
   },
   "source": [
    "\n",
    "---\n",
    "\n",
    "\n",
    "\n",
    "2.   Feedforward Propagation (10 pts)\n",
    "\n",
    "\n",
    " You are using the neural network pictured below and have learned the parameters $\\Theta^{(1)} = \\begin{bmatrix}\n",
    "    1 & 2.1 & 1.3 \\\\\n",
    "    1 & 0.6 & -1.2 \\\\\n",
    "\\end{bmatrix}$ (used to compute $a^{(3)}$) and $\\Theta^{(2)} = \\begin{bmatrix}\n",
    "    1 & 4.5 & 3.1 \\\\\n",
    "\\end{bmatrix}$  (used to compute $a^{(3)}$, as function of $a^{(2)}$). Suppose you swap the parameters for the first hidden layer between its two units. So  $\\Theta^{(1)} = \\begin{bmatrix}\n",
    "    1 & 0.6 & -1.2 \\\\\n",
    "    1 & 2.1 & 1.3 \\\\\n",
    "\\end{bmatrix}$and $\\Theta^{(2)} = \\begin{bmatrix}\n",
    "    1 & 4.5 & 3.1 \\\\\n",
    "\\end{bmatrix}$. How will this change the value of the output $h_{\\Theta}(x)$ ? \n",
    "\n",
    "\n",
    " \n",
    "![](https://gdurl.com/dAiN)\n",
    "\n",
    "\n",
    "\n",
    "\n",
    "\n",
    "*   a. It will decrease\n",
    "*   b. It will increase\n",
    "*   c. It will stay same\n",
    "*   d. Insufficient information to tell: it may increase or decrease\n",
    "\n",
    "\n"
   ]
  },
  {
   "cell_type": "markdown",
   "metadata": {
    "id": "L8PrJQMTwTXJ"
   },
   "source": [
    "\n",
    "---\n",
    "\n",
    "\n",
    "\n",
    "3.   Back Propagation (10 pts)\n",
    "\n",
    "\n",
    " When training the neural networks, what are the typical steps for using a gradient descent algorithm?\n",
    "\n",
    "1) Compute the error between the actual value and the predicted value\n",
    "\n",
    "2) Reiterate until you find the best weights of network (until the error is sufficiently small)\n",
    "\n",
    "3) Pass an input through the network and get values from output layer\n",
    "\n",
    "4) Initialize random weight and bias\n",
    "\n",
    "5) Go to each neuron which contributes to the error and change its respective values to reduce the error\n",
    "\n",
    "\n",
    "\n",
    "\n",
    "*   a. 1 ➜ 2 ➜ 3 ➜ 4 ➜ 5\n",
    "*   b. 5 ➜ 4 ➜ 3 ➜ 2 ➜ 1\n",
    "*   c. 3 ➜ 2 ➜ 1 ➜ 5 ➜ 4\n",
    "*   d. 4 ➜ 3 ➜ 1 ➜ 5 ➜ 2\n",
    "\n"
   ]
  },
  {
   "cell_type": "markdown",
   "metadata": {
    "id": "5q301bhDwmR1"
   },
   "source": [
    "\n",
    "---\n",
    "\n",
    "\n",
    "\n",
    "4.   Gradient Computation (20 pts)\n",
    "\n",
    "Given a quadratic cost function\n",
    "\n",
    "\n",
    "$J(\\Theta) = \\frac{1}{2}\\sum_{k \\in K} ((h_{\\Theta}(x))_{k} - y_{k})^{2} $\n",
    "\n",
    "\n",
    "and \"error\" of cost for $a_{j}^{(l)}$ (unit $j$ in layer $l$)\n",
    "\n",
    "\n",
    "$\\delta_{j}^{(l)} = \\frac{\\partial }{\\partial z_{j}^{(l)}} J(\\Theta)$\n",
    "\n",
    "\n",
    "drive the following equations:\n",
    "\n",
    "\n",
    "\\\\\n",
    "\n",
    "\n",
    "\n",
    "a) $\\delta^{(L)} = (a^{(L)} - y).*g^{'}(z^{(L)})$\n",
    "\n",
    "b) $\\delta^{(l)} = (\\Theta^{(l)})^{T} \\delta^{(l+1)}.*g^{'}(z^{(l)})$\n",
    "\n",
    "c) $\\frac{\\partial}{\\partial \\Theta_{ij}^{(l)}} J(\\Theta) = a_{j}^{(l)} \\delta_{i}^{l+1}$\n",
    "\n",
    "\n"
   ]
  },
  {
   "cell_type": "markdown",
   "metadata": {
    "id": "2ZKItpKtkuh1"
   },
   "source": [
    "\n",
    "---\n",
    "\n",
    "\n",
    "\n",
    "5.   (optional) Gradient Computation (20 pts)\n",
    "\n",
    " Repeat Problem 4 for the cross-entropy cost function."
   ]
  },
  {
   "cell_type": "markdown",
   "metadata": {
    "id": "ulLAwXQUk2T0"
   },
   "source": [
    "\n",
    "---\n",
    "\n",
    "\n",
    "\n",
    "6.   (optional) Convexity of Cost Functions (20 pts)\n",
    "\n",
    "\n",
    "Assume we use a sigmoid function for output layer activation in Neural Network; i.e. $a_L = g_L (z_L) = \\frac{1}{1 + e^{-zL}}$, Prove that the cross-entropy loss function is convex (hint: for a convex function $f(x),f^{''}(x)=\\frac{d^2f}{dx^2} \\geq 0, \\forall x \\in \\mathbb{R}$."
   ]
  },
  {
   "cell_type": "markdown",
   "metadata": {
    "id": "_Rs_XOPK4Thp"
   },
   "source": [
    "# Lab (50pts)"
   ]
  },
  {
   "cell_type": "markdown",
   "metadata": {
    "id": "hTOGA3u44W9b"
   },
   "source": [
    "For all lab assignments, submit your Notebook file (**아무개_hw6.ipynb**) via **ETL**. The Notebook file should be named with your full name and the homework number – e.g., **아무개_hw6.ipynb**. \n",
    "\n",
    "In addition to writing Python scripts and/or functions in your Notebook file, there are also questions you’ll have to answer. For such questions, you should provide answers in your Notebook file using Text sections.\n",
    "\n",
    "**Please submit the codes executed (make sure that the results of your codes are visible in the submitted assignments) so that the grader can check whether the code is working or not.**"
   ]
  },
  {
   "cell_type": "markdown",
   "metadata": {
    "id": "OajMlkaBl0HO"
   },
   "source": [
    "\n",
    "1.   binary MNIST from Scratch (30 pts)\n",
    "\n",
    "Choose two digits from the MNIST handwriting data. Make a subset of the MNIST dataset containing only the chosen two digits. Separate the dataset to training and testing data. The ratio of the training and testing data should be 6 to 1. Make and train a neural network from scratch. Use the code provided by lab6 and expand the network to have three hidden layers. The number of input nodes should be 784 (28X28) and the number of output nodes should be 2 (0, 1 binary one hot vector). The number of nodes for the hidden layers should be scalable. The activation function for the last layer (output layer) should be sigmoid and the activation for the rest of the network should be relu. Plot the cost and the confusion matrix of your trained model."
   ]
  },
  {
   "cell_type": "code",
   "execution_count": null,
   "metadata": {
    "id": "AMKmy6Yp78YX"
   },
   "outputs": [],
   "source": [
    "# !!!! your code here !!!!\n"
   ]
  },
  {
   "cell_type": "markdown",
   "metadata": {
    "id": "kFG4e0o_77OW"
   },
   "source": [
    "\n",
    "---\n",
    "\n",
    "\n",
    "2.   binary MNIST using keras (10 pts)\n",
    "\n",
    "Use the dataset created at lab problem 1. Make and train a neural network model resembling the neural network model used at lab problem 1 using keras. Verify your network by comparing the accuracy with the result from lab problem 1."
   ]
  },
  {
   "cell_type": "code",
   "execution_count": null,
   "metadata": {
    "id": "gLdyTVZc8B8h"
   },
   "outputs": [],
   "source": [
    "# !!!! your code here !!!!\n"
   ]
  },
  {
   "cell_type": "markdown",
   "metadata": {
    "id": "iS-Rnmhz4kka"
   },
   "source": [
    "\n",
    "---\n",
    "\n",
    "\n",
    "3.   MNIST using keras  (10 pts)\n",
    "\n",
    "\n",
    "Refer to the lab6 materials to create and learn a neural network that classifies MNIST handwriting data and organize the results using keras. Change the number of layers, number of neurons, and activation functions and experiment with three different settings and verify the accuracy of over the test data. Draw a confusion matrix of the most accurate model."
   ]
  },
  {
   "cell_type": "code",
   "execution_count": null,
   "metadata": {
    "id": "ehO71PKoq0YP"
   },
   "outputs": [],
   "source": [
    "# !!!! your code here !!!!\n"
   ]
  }
 ],
 "metadata": {
  "colab": {
   "collapsed_sections": [],
   "name": "assignment06.ipynb",
   "provenance": []
  },
  "kernelspec": {
   "display_name": "Python 3",
   "language": "python",
   "name": "python3"
  },
  "language_info": {
   "codemirror_mode": {
    "name": "ipython",
    "version": 3
   },
   "file_extension": ".py",
   "mimetype": "text/x-python",
   "name": "python",
   "nbconvert_exporter": "python",
   "pygments_lexer": "ipython3",
   "version": "3.8.5"
  }
 },
 "nbformat": 4,
 "nbformat_minor": 1
}
