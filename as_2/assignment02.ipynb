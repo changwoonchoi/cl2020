{
 "cells": [
  {
   "cell_type": "markdown",
   "metadata": {
    "colab_type": "text",
    "id": "sPbKhxSWC9D8"
   },
   "source": [
    "M2780.002400 Machine Listening (Fall 2020)\n",
    "\n",
    "Instructor: Kyogu Lee (kglee@snu.ac.kr)"
   ]
  },
  {
   "cell_type": "markdown",
   "metadata": {
    "colab_type": "text",
    "id": "KvpK393XDAB2"
   },
   "source": [
    "# Assignment 2: Acoustic Feature Extraction\n",
    "\n",
    "(110 points)\n",
    "\n",
    "**Due Date : This assignment is due by 12:59PM (before the class starts), September 22 (Tuesday)**\n",
    "\n",
    "\n",
    "\n",
    "---\n",
    "\n",
    "Assignment\n",
    "\n",
    "Each assignment is composed of two parts: a) in the theory part, you are required to solve the problem set, write down your answers on paper (also, typing your answers using PC or tablet PC is fine), and upload the scanned version (name_hw2.pdf) via **ETL**; b) for the lab assignment, you will need to write Notebook scripts and/or functions as required and submit them electronically (via **ETL**) by the end of the due date.\n",
    "\n"
   ]
  },
  {
   "cell_type": "markdown",
   "metadata": {
    "colab_type": "text",
    "id": "G-94scl8GUIp"
   },
   "source": [
    "# Theory (30pts)"
   ]
  },
  {
   "cell_type": "markdown",
   "metadata": {
    "colab_type": "text",
    "id": "c4rAu5CUGd0t"
   },
   "source": [
    "\n",
    "\n",
    "---\n",
    "\n",
    "\n",
    "1.   Linear predictive coding (30 pts)\n",
    "\n",
    "\n",
    "\n",
    "\n",
    "Consider a signal $ x(n) $ given by\n",
    "\n",
    "\n",
    "$$ x(n) = [1,-1,0,1,0,-1,1,1] $$\n",
    "\n",
    "\n",
    "Given two linear predictive coefficients with order 3 and 5 specified by $ A_1 = [-0.17,-0.5,0.17] $  and $ A_2 = [-0.21, -0.38, 0.21, 0.25, 0.01] $ , respectively,\n",
    "\n",
    "\n",
    "*   a. Find $ \\hat{x}_1(n) $ and $ \\hat{x}_2(n) $   (Hint: you’ll need to fill in zeros to predict the first few samples).\n",
    "*   b. Compute the residual errors $ e_1(n) $ and $ e_2(n) $.\n",
    "*   c. Compute the mean square errors (MSE). The MSE is given by\n",
    "\n",
    "\n",
    "$$ MSE = \\frac{1}{N} \\sum_{n=0}^{N-1}[e(n)]^2 $$\n",
    "\n",
    "\n",
    "Are the results consistent with your expectation?\n"
   ]
  },
  {
   "cell_type": "markdown",
   "metadata": {
    "colab_type": "text",
    "id": "NVpA6hRWKaIz"
   },
   "source": [
    "# Lab (80pts)"
   ]
  },
  {
   "cell_type": "markdown",
   "metadata": {
    "colab_type": "text",
    "id": "khixUlBqKvQu"
   },
   "source": [
    "For all lab assignments, submit your Notebook file (.ipynb) via **ETL**. The Notebook file should be named with your full name and the homework number – e.g., JohnDoe_hw2.ipynb. \n",
    "\n",
    "In addition to writing Python scripts and/or functions in your Notebook file, there are also questions you’ll have to answer. For such questions, you should provide answers in your Notebook file using Text sections.\n",
    "\n",
    "**Please submit the codes executed (make sure that the results of your codes are visible in the submitted assignments) so that the grader can check whether the code is working or not.**\n",
    "\n",
    "In all the plots for the time-domain signals, your x-axis must be time in seconds and the y-axis amplitude. For the magnitude spectra, the x-axis should be frequency in Hz up to the half the sampling rate, and the y-axis normalized magnitude in dB."
   ]
  },
  {
   "cell_type": "markdown",
   "metadata": {
    "colab_type": "text",
    "id": "n1CRF7VDRhq9"
   },
   "source": [
    "\n",
    "\n",
    "---\n",
    "\n",
    "\n",
    "1.   Spectral low-level features (20 pts)\n",
    " \n",
    " Download the piano clip and the drum clip from the course homepage (or ETL), The files are in the lab2/wav folder. Names of each files are 'drums_synt.wav' and 'T39-piano.wav'\n",
    "\n",
    "\n",
    "\n",
    "*   a. For each sound, compute the spectral centroid and spectral spread for each frame and plot the temporal evolution of these values.\n",
    "*   b. For each sound, compute the spectral flatness measure using a Mel scale. Use 40 subbands, each band being 100 Mel wide, up to 4000 Mel. Plot a 2-d “sfmgram” using matplotlib.pyplot.imshow.\n",
    "*   c. For each sound, find the first 10 spectral peaks in the spectrum, and compute the harmonic spectral centroid and harmonic spectral spread. Plot the temporal evolution of these values for each signal. (Hint: in a magnitude spectrum, if a DFT value is larger than its two neighbors, it’s considered to be a peak.)\n",
    "\n",
    "\n"
   ]
  },
  {
   "cell_type": "code",
   "execution_count": null,
   "metadata": {
    "colab": {},
    "colab_type": "code",
    "id": "E4rLEJBbRg2t"
   },
   "outputs": [],
   "source": [
    "# !!!! your code here !!!!\n"
   ]
  },
  {
   "cell_type": "markdown",
   "metadata": {
    "colab_type": "text",
    "id": "GxBB-8XZTe6l"
   },
   "source": [
    "\n",
    "\n",
    "---\n",
    "\n",
    "\n",
    "\n",
    "2.   Spectral envelope (20 pts)\n",
    " \n",
    " Using your favorite audio recording/editing software (e.g., Audacity, Logic Pro, smartphone apps, etc.), record your voice saying “My name is (--your name--)” and save it as a wave file.\n",
    "\n",
    "\n",
    "*   a. Perform spectral analysis of your recorded voice. Plot the spectrogram.\n",
    "*   b. Take a snapshot from the middle of your spectrogram and plot the magnitude spectrum.\n",
    "*   c. Using librosa.feature.mfcc, compute the MFCCs of your voice. Take a snapshot in the middle and plot MFCCs using matplotlib.pyplot.bar. Also, plot the spectral envelope overlaid with the original spectrum.\n",
    "\n",
    "(Hint: librosa.feature.mfcc return the coefficient list every analysis frame, resulting in the 2-d list of coefficients as in a spectrogram. Therefore, you’ll need to select a single frame (e.g. from the middle) for your plotting purposes.)"
   ]
  },
  {
   "cell_type": "code",
   "execution_count": null,
   "metadata": {
    "colab": {},
    "colab_type": "code",
    "id": "PljJxZloWu8u"
   },
   "outputs": [],
   "source": [
    "# !!!! your code here !!!!\n"
   ]
  },
  {
   "cell_type": "markdown",
   "metadata": {
    "colab_type": "text",
    "id": "VG-bL1pvWv1u"
   },
   "source": [
    "\n",
    "\n",
    "---\n",
    "\n",
    "\n",
    "\n",
    "\n",
    "3.   Constant-Q transform (20 pts)\n",
    "\n",
    " Using a sampling rate of 8000 Hz,\n",
    "\n",
    "\n",
    "\n",
    "\n",
    "*   a. Generate a sequence of sinusoids whose frequencies move from C4 to C5 in a diatonic scale, that is, C4-D4-E4-F4-G4-A4-B4-C5. Each note should be 0.5 second long.\n",
    "*   b. Using the FFT size of 1024 and the hop size of 512, compute the spectrogram and plot it.\n",
    "*   c. Using $ f_{min} = 27.5 $ Hz, $ f_{max} = f_{s}/2 $ and, $ B = 12 $ compute and plot the CQ-gram of the same signal.\n",
    "\n"
   ]
  },
  {
   "cell_type": "code",
   "execution_count": null,
   "metadata": {
    "colab": {},
    "colab_type": "code",
    "id": "MckU9CmhXuIm"
   },
   "outputs": [],
   "source": [
    "# !!!! your code here !!!!\n"
   ]
  },
  {
   "cell_type": "markdown",
   "metadata": {
    "colab_type": "text",
    "id": "5lbPLg2IXv2n"
   },
   "source": [
    "\n",
    "\n",
    "---\n",
    "\n",
    "\n",
    "\n",
    "4.   Chromagram (20 pts)\n",
    "\n",
    "\n",
    "\n",
    "*   a. For the same sequence in the previous problem, compute and plot the chromagram.It is consistent with your expectation?\n",
    "*   b. Download prelude_cmaj_short_11k.wav from the class homepage. Compute and plot the chromagram. By visual inspection, try to estimate the chord sequence (Hint: there are three different kinds of chords, each repeating twice like A-A-B-B-C-C-A-A).\n",
    "\n",
    "\n",
    "\n"
   ]
  },
  {
   "cell_type": "code",
   "execution_count": null,
   "metadata": {
    "colab": {},
    "colab_type": "code",
    "id": "NxT-lr06YL-l"
   },
   "outputs": [],
   "source": [
    "# !!!! your code here !!!!\n"
   ]
  }
 ],
 "metadata": {
  "colab": {
   "collapsed_sections": [],
   "name": "assignment02.ipynb",
   "provenance": [],
   "toc_visible": true
  },
  "kernelspec": {
   "display_name": "Python 3",
   "language": "python",
   "name": "python3"
  },
  "language_info": {
   "codemirror_mode": {
    "name": "ipython",
    "version": 3
   },
   "file_extension": ".py",
   "mimetype": "text/x-python",
   "name": "python",
   "nbconvert_exporter": "python",
   "pygments_lexer": "ipython3",
   "version": "3.8.5"
  }
 },
 "nbformat": 4,
 "nbformat_minor": 1
}
