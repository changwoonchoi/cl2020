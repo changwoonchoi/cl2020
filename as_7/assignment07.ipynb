{
 "cells": [
  {
   "cell_type": "markdown",
   "metadata": {
    "id": "RWo4xJnlTUiy"
   },
   "source": [
    "M2780.002400 Machine Listening (Fall 2020)\n",
    "\n",
    "Instructor: Kyogu Lee (kglee@snu.ac.kr)"
   ]
  },
  {
   "cell_type": "markdown",
   "metadata": {
    "id": "jB94TKZiTbPX"
   },
   "source": [
    "# Assignment 7: Improving Machine Learning\n",
    "\n",
    "(85 points)\n",
    "\n",
    "Due Date : This assignment is due by 12:59PM, November 10 (Tuesday)\n",
    "\n",
    "\n",
    "---\n",
    "\n",
    "Assignment\n",
    "\n",
    "This assignment is composed of two parts: Theory and Lab assignments, you will need to write the answers for the Theory problems and Notebook scripts and/or functions as required. Submit them electronically (via **ETL**) by the end of the due date."
   ]
  },
  {
   "cell_type": "markdown",
   "metadata": {
    "id": "xJsegLlHKNQ7"
   },
   "source": [
    "# Theory (45pts)"
   ]
  },
  {
   "cell_type": "markdown",
   "metadata": {
    "id": "6jRB__3SKRvF"
   },
   "source": [
    "\n",
    "---\n",
    "\n",
    "1.   Bias and Variance, Regularization  (10 pts)\n",
    "\n",
    "Suppose you are using Ridge Regression and you notice that the training error\n",
    "and the validation error are almost equal and fairly high. Would you say that the\n",
    "model suffers from high bias or high variance? Should you increase the regularization\n",
    "hyperparameter α or reduce it?"
   ]
  },
  {
   "cell_type": "markdown",
   "metadata": {
    "id": "c8shQ2F_LDC4"
   },
   "source": [
    "---\n",
    "\n",
    "2.   Regularization  (10 pts)\n",
    "\n",
    "Suppose you are using Polynomial Regression. You plot the learning curves and\n",
    "you notice that there is a large gap between the training error and the validation\n",
    "error. What is happening? What are three ways to solve this?"
   ]
  },
  {
   "cell_type": "markdown",
   "metadata": {
    "id": "V5C6b2_jMU8R"
   },
   "source": [
    "---\n",
    "\n",
    "3. Dropout (10 pts)\n",
    "\n",
    " a. Explain the dropout technique in terms of the dropout rate *p*.\n",
    "\n",
    " b. Does dropout slow down training? Does it slow down inference (i.e., making\n",
    "predictions on new instances)?"
   ]
  },
  {
   "cell_type": "markdown",
   "metadata": {
    "id": "0AO39Pc8N-Bc"
   },
   "source": [
    "---\n",
    "\n",
    "4. Optimization (15 pts)\n",
    "\n",
    "State the *True* or *False* for the followings.\n",
    "\n",
    "  a. Adam should be used with batch gradient computations, not with mini-batches.\n",
    "\n",
    "  b. Adam combines the advantages of RMSProp and gradient descent with momentum.\n",
    "\n",
    "  c. The learning rate of the Adam optimizer does not need to be tuned."
   ]
  },
  {
   "cell_type": "markdown",
   "metadata": {
    "id": "gsjE1gXxXYO6"
   },
   "source": [
    "# Lab (40pts)"
   ]
  },
  {
   "cell_type": "markdown",
   "metadata": {
    "id": "mAioqArwXcgD"
   },
   "source": [
    "For all lab assignments, submit your Notebook file (.ipynb) and audio files (.wav) with one compressed (.zip) file, via **ETL**. The Notebook file and zip file should be named with your full name and the homework number – e.g., ***아무개_hw7.ipynb, 아무개_hw7.zip***\n",
    "\n",
    "In addition to writing Python scripts and/or functions in your Notebook file, there are also questions you’ll have to answer. For such questions, you should provide answers in your Notebook file using Text sections.\n",
    "\n",
    "**Please submit the codes executed (make sure that the results of your codes are visible in the submitted assignments) so that the grader can check whether the code is working or not.**"
   ]
  },
  {
   "cell_type": "markdown",
   "metadata": {
    "id": "rvvsRSFJXiH2"
   },
   "source": [
    "\n",
    "---\n",
    "\n",
    "1.   MNIST using keras with L1, L2 regularization  (10 pts)\n",
    "\n",
    "Refer to the lab6 and Keras tutorials to create and learn a neural network that classifies MNIST handwriting data and organize the results using keras. Use the best model you created at problem 3 on assignment6. Implement l1 and l2 regularization on the loss function using keras.regularizers. Compare the results of three models, with no regularization, with L1 regularization, and L2 regularization using accuracy and confusion matrix."
   ]
  },
  {
   "cell_type": "code",
   "execution_count": null,
   "metadata": {
    "id": "a7x19YyHXhRd"
   },
   "outputs": [],
   "source": [
    "# !!!! your code here !!!!\n"
   ]
  },
  {
   "cell_type": "markdown",
   "metadata": {
    "id": "ilgkgKdxdRIB"
   },
   "source": [
    "\n",
    "---\n",
    "\n",
    "\n",
    "2.   MNIST using keras with batch normalization  (10 pts)\n",
    "\n",
    "\n",
    "Refer to the lab6 and Keras tutorials  to create and learn a neural network that classifies MNIST handwriting data and organize the results using keras. Use the best model you created at problem 3 on assignment6. Implement barch normalization on two of your hidden layers using keras.layers.BatchNormalization. Compare the results of two models, with batch normalizaion and without batch normalization using accuracy and confusion matrix."
   ]
  },
  {
   "cell_type": "code",
   "execution_count": null,
   "metadata": {
    "id": "LRoTzo28Xb9J"
   },
   "outputs": [],
   "source": [
    "# !!!! your code here !!!!\n"
   ]
  },
  {
   "cell_type": "markdown",
   "metadata": {
    "id": "g7Q158u2eRPL"
   },
   "source": [
    "\n",
    "---\n",
    "\n",
    "\n",
    "3.   MNIST using keras with different optimizers  (20 pts)\n",
    "\n",
    "\n",
    "Refer to the lab6 and Keras tutorials to create and learn a neural network that classifies MNIST handwriting data and organize the results using keras. Use the best model you created at problem 3 on assignment6. Change the optimizer of the model to Stochastic Gradient Descent, RMSprop, Adagrad, and Adam using  keras.optimizers. Compare the results of the four models using accuracy, confusion matrix, and by plotting the loss of the models by epoch as they train."
   ]
  },
  {
   "cell_type": "code",
   "execution_count": null,
   "metadata": {
    "id": "Xtsbo8ZseQo5"
   },
   "outputs": [],
   "source": [
    "# !!!! your code here !!!!\n"
   ]
  }
 ],
 "metadata": {
  "colab": {
   "collapsed_sections": [],
   "name": "assignment07.ipynb",
   "provenance": []
  },
  "kernelspec": {
   "display_name": "Python 3",
   "language": "python",
   "name": "python3"
  },
  "language_info": {
   "codemirror_mode": {
    "name": "ipython",
    "version": 3
   },
   "file_extension": ".py",
   "mimetype": "text/x-python",
   "name": "python",
   "nbconvert_exporter": "python",
   "pygments_lexer": "ipython3",
   "version": "3.8.5"
  }
 },
 "nbformat": 4,
 "nbformat_minor": 1
}
